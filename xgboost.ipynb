{
 "cells": [
  {
   "cell_type": "markdown",
   "id": "ad34eaf9-f7c3-44e0-8a77-440e875a0ec7",
   "metadata": {},
   "source": [
    "$\\textbf{1. Settings and Data Load}$"
   ]
  },
  {
   "cell_type": "code",
   "execution_count": 117,
   "id": "b5e22f74-0692-476f-8d3d-b6001ef044a6",
   "metadata": {},
   "outputs": [],
   "source": [
    "import torch\n",
    "import pandas as pd\n",
    "import numpy as np\n",
    "import pandas_ta as ta\n",
    "import xgboost as xgb\n",
    "from sklearn.model_selection import train_test_split\n",
    "from sklearn.metrics import classification_report, confusion_matrix"
   ]
  },
  {
   "cell_type": "markdown",
   "id": "7ccda3d7-7345-45f3-a0a9-df923c51ecb6",
   "metadata": {},
   "source": [
    "To properly load the data, make sure the data is in the form of \n",
    "1. Date\n",
    "2. Price\n",
    "3. Open\n",
    "4. High\n",
    "5. Low\n",
    "6. Vol. "
   ]
  },
  {
   "cell_type": "code",
   "execution_count": 118,
   "id": "ac0e9e04-4e0f-4989-8248-7523504eec57",
   "metadata": {},
   "outputs": [
    {
     "name": "stdout",
     "output_type": "stream",
     "text": [
      "           Date   Price      Open      High       Low        Vol.  Change %  \\\n",
      "4993 2024-11-15  496.57  0.988723  0.989489  0.972111  51460000.0   -0.0238   \n",
      "\n",
      "      Expected Return  Expected Move  Weekday  ...    HMA_20    HMA_60  \\\n",
      "4993         1.137134              1        5  ...  1.034713  1.018613   \n",
      "\n",
      "      MACD_12_26_9  MACDh_12_26_9  MACDs_12_26_9  STOCHk_14_3_3  \\\n",
      "4993         5.421       0.053046       5.367953      69.389465   \n",
      "\n",
      "      STOCHd_14_3_3      KDJ_J  STOCHRSIk_14_14_3_3  STOCHRSId_14_14_3_3  \n",
      "4993      82.595036  42.978322            59.235984            79.304008  \n",
      "\n",
      "[1 rows x 22 columns]\n",
      "(4914, 15, 18) (4914,)\n"
     ]
    }
   ],
   "source": [
    "filename = \"QQQ Historical Data.csv\"\n",
    "positive_cutoff = 0.1 # Discriminate bewtween \"Neutral” and \"Positive“\n",
    "negative_cutoff = -0.1 # Discriminate bewtween \"Neutral” and \"Negative”\n",
    "window_size = 15 # Number of consecutive trading days that will be considered\n",
    "\n",
    "\n",
    "\n",
    "try:\n",
    "    raw_data = pd.read_csv(filename)\n",
    "except Exception as e:\n",
    "    print(\"Unable to open the file\")\n",
    "    print(f\"The error is: {e}\")\n",
    "if 'Unnamed: 0' in raw_data.columns:\n",
    "    raw_data = raw_data.drop(columns=['Unnamed: 0'])\n",
    "\n",
    "df = raw_data\n",
    "df['Price'] = pd.to_numeric(df['Price'], errors='coerce')\n",
    "returns = []\n",
    "for i in range(len(df)):\n",
    "    if i + 5 < len(df):\n",
    "        future_prices = df.loc[i+1:i+3, 'Price']\n",
    "        current_price = df.loc[i, 'Price']\n",
    "        avg_return = ((future_prices - current_price) / current_price).mean() * 100\n",
    "        returns.append(avg_return)\n",
    "    else:\n",
    "        returns.append(None)\n",
    "\n",
    "df['Expected Return'] = returns\n",
    "\n",
    "df = df.dropna().reset_index(drop=True)\n",
    "\n",
    "def categorize_return(r):\n",
    "    if pd.isna(r):\n",
    "        return None\n",
    "    elif r > positive_cutoff:\n",
    "        return 1\n",
    "    elif r < negative_cutoff:\n",
    "        return 3\n",
    "    else:\n",
    "        return 2\n",
    "\n",
    "df['Expected Move'] = df['Expected Return'].apply(categorize_return)\n",
    "\n",
    "# df['1'] = df['Expected Return'].where(df['Expected Move'] == 1).dropna()\n",
    "# df['2'] = df['Expected Return'].where(df['Expected Move'] == 2).dropna()\n",
    "# df['3'] = df['Expected Return'].where(df['Expected Move'] == 3).dropna()\n",
    "# print(len(df['1'].dropna()), len(df['2'].dropna()), len(df['3'].dropna()))\n",
    "\n",
    "df['Date'] = pd.to_datetime(df['Date'], format='%d/%m/%Y')\n",
    "df['Weekday'] = df['Date'].dt.weekday + 1\n",
    "\n",
    "df['Close'] = df['Price']\n",
    "\n",
    "# Add the technical indicators here\n",
    "df['RSI'] = ta.rsi(df['Close'], length=14)\n",
    "df['HMA_20'] = ta.hma(df['Close'], length=20)\n",
    "df['HMA_60'] = ta.hma(df['Close'], length=60)\n",
    "\n",
    "macd = ta.macd(df['Close'])\n",
    "df = pd.concat([df, macd], axis=1)\n",
    "\n",
    "stoch = ta.stoch(df['High'], df['Low'], df['Close'])\n",
    "df = pd.concat([df, stoch], axis=1)\n",
    "\n",
    "df['KDJ_J'] = 3 * df['STOCHk_14_3_3'] - 2 * df['STOCHd_14_3_3']\n",
    "stochrsi = ta.stochrsi(df['Close'])\n",
    "df = pd.concat([df, stochrsi], axis=1)\n",
    "\n",
    "\n",
    "def convert_volume(val):\n",
    "    if isinstance(val, str):\n",
    "        val = val.replace(',', '').strip()\n",
    "        if val.endswith('M'):\n",
    "            return float(val[:-1]) * 1_000_000\n",
    "        elif val.endswith('K'):\n",
    "            return float(val[:-1]) * 1_000\n",
    "        elif val == '-':\n",
    "            return None\n",
    "    try:\n",
    "        return float(val)\n",
    "    except:\n",
    "        return None\n",
    "\n",
    "df['Vol.'] = df['Vol.'].apply(convert_volume)\n",
    "df['Change %'] = df['Change %'].str.replace('%', '', regex=False).astype(float) / 100\n",
    "df['Open'] = df['Open'] / df['Price'] * (1+df['Change %'])\n",
    "df['High'] = df['High'] / df['Price'] * (1+df['Change %'])\n",
    "df['Low'] = df['Low'] / df['Price'] * (1+df['Change %'])\n",
    "df['HMA_20'] = df['HMA_20'] / df['Price']\n",
    "df['HMA_60'] = df['HMA_60'] / df['Price']\n",
    "\n",
    "print(df.tail(1))\n",
    "df = df.dropna().reset_index(drop=True)\n",
    "\n",
    "X = []\n",
    "Y = []\n",
    "#print(df.columns.tolist())\n",
    "\n",
    "features = [ 'Open', 'High', 'Low', 'Vol.', 'Change %', 'Weekday', 'Close', 'RSI', 'HMA_20', 'HMA_60', 'MACD_12_26_9', 'MACDh_12_26_9', 'MACDs_12_26_9', 'STOCHk_14_3_3', 'STOCHd_14_3_3', 'KDJ_J', 'STOCHRSIk_14_14_3_3', 'STOCHRSId_14_14_3_3']\n",
    "for i in range(window_size, len(df)):\n",
    "    x_window = df.iloc[i - window_size:i][features].values\n",
    "    y_label = df.iloc[i-1]['Expected Move']\n",
    "\n",
    "    X.append(x_window)\n",
    "    Y.append(y_label)\n",
    "\n",
    "X = np.array(X)\n",
    "Y = np.array(Y)\n",
    "\n",
    "print(X.shape, Y.shape)"
   ]
  },
  {
   "cell_type": "code",
   "execution_count": 119,
   "id": "865594ee-ef10-49f0-836a-c5ffedb86e5c",
   "metadata": {},
   "outputs": [],
   "source": [
    "X_flat = X.reshape((X.shape[0], -1))\n",
    "\n",
    "X_train, X_test, y_train, y_test = train_test_split(X_flat, Y, test_size=0.2, random_state=42)"
   ]
  },
  {
   "cell_type": "markdown",
   "id": "44da35cf-8fc7-433e-b6e6-bdfa2096936b",
   "metadata": {},
   "source": [
    "$\\textbf{2. XGBoost Prediction}$"
   ]
  },
  {
   "cell_type": "code",
   "execution_count": 120,
   "id": "7e5b31ca-624c-4688-a72c-c3f2ada18fa1",
   "metadata": {},
   "outputs": [
    {
     "name": "stderr",
     "output_type": "stream",
     "text": [
      "C:\\Users\\dysr3\\AppData\\Local\\Packages\\PythonSoftwareFoundation.Python.3.11_qbz5n2kfra8p0\\LocalCache\\local-packages\\Python311\\site-packages\\xgboost\\training.py:183: UserWarning: [21:40:30] WARNING: C:\\actions-runner\\_work\\xgboost\\xgboost\\src\\learner.cc:738: \n",
      "Parameters: { \"use_label_encoder\" } are not used.\n",
      "\n",
      "  bst.update(dtrain, iteration=i, fobj=obj)\n"
     ]
    },
    {
     "name": "stdout",
     "output_type": "stream",
     "text": [
      "              precision    recall  f1-score   support\n",
      "\n",
      "    Positive       0.59      0.77      0.67       532\n",
      "     Netural       1.00      0.02      0.03        61\n",
      "    Negative       0.52      0.39      0.45       390\n",
      "\n",
      "    accuracy                           0.57       983\n",
      "   macro avg       0.71      0.39      0.38       983\n",
      "weighted avg       0.59      0.57      0.54       983\n",
      "\n",
      "[[411   0 121]\n",
      " [ 44   1  16]\n",
      " [239   0 151]]\n"
     ]
    }
   ],
   "source": [
    "model = xgb.XGBClassifier(\n",
    "    objective='multi:softmax',\n",
    "    num_class=3,  # Assuming classes are 1, 2, 3. XGBoost expects 0-based indexing\n",
    "    eval_metric='mlogloss',\n",
    "    use_label_encoder=False,\n",
    "    random_state=3\n",
    ")\n",
    "\n",
    "# IMPORTANT: convert y to zero-based labels (i.e., 1→0, 2→1, 3→2)\n",
    "y_train_adj = y_train - 1\n",
    "y_test_adj = y_test - 1\n",
    "\n",
    "model.fit(X_train, y_train_adj)\n",
    "\n",
    "# Step 4: Evaluate\n",
    "y_pred = model.predict(X_test)\n",
    "print(classification_report(y_test_adj, y_pred, target_names=[\"Positive\", \"Netural\", \"Negative\"]))\n",
    "print(confusion_matrix(y_test_adj, y_pred))"
   ]
  },
  {
   "cell_type": "code",
   "execution_count": null,
   "id": "00f23310-fccf-4c2f-ac85-d3af5e17396e",
   "metadata": {},
   "outputs": [],
   "source": []
  }
 ],
 "metadata": {
  "kernelspec": {
   "display_name": "Python 3 (ipykernel)",
   "language": "python",
   "name": "python3"
  },
  "language_info": {
   "codemirror_mode": {
    "name": "ipython",
    "version": 3
   },
   "file_extension": ".py",
   "mimetype": "text/x-python",
   "name": "python",
   "nbconvert_exporter": "python",
   "pygments_lexer": "ipython3",
   "version": "3.11.9"
  }
 },
 "nbformat": 4,
 "nbformat_minor": 5
}
